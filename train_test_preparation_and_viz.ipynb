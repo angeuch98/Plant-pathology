{
 "cells": [
  {
   "cell_type": "markdown",
   "id": "23a1dbfa",
   "metadata": {},
   "source": [
    "## Preparation of training and testing set"
   ]
  },
  {
   "cell_type": "code",
   "execution_count": 2,
   "id": "73c09341",
   "metadata": {},
   "outputs": [],
   "source": [
    "import numpy as np # import numpy library\n",
    "import csv\n",
    "import pandas as pd\n",
    "import PIL\n",
    "from PIL import Image # Import Image from PIL - a convenient package for dealing with images!\n",
    "import requests \n",
    "import matplotlib.pyplot as plt # and this is for visualization\n",
    "import seaborn as sns # visualization library, similar to matplotlib (based on matplotlib, actually)\n",
    "from mpl_toolkits.axes_grid1 import ImageGrid\n",
    "import os, shutil\n",
    "import tensorflow as tf # import Tensorflow library\n",
    "tf.random.set_seed(123)"
   ]
  },
  {
   "cell_type": "markdown",
   "id": "a3a702aa",
   "metadata": {},
   "source": [
    "### Separating images from the 'images' folder into new 'train' and 'test' based on the images names:"
   ]
  },
  {
   "cell_type": "code",
   "execution_count": null,
   "id": "db3b2610",
   "metadata": {},
   "outputs": [],
   "source": [
    "original_dataset_dir = 'C:/Users/48507/Downloads/plant-pathology-2020-fgvc7/images' # The path of the directory into which the original dataset was unpacked.\n",
    "\n",
    "\n",
    "train_dir = 'C:/Users/48507/Downloads/plant-pathology-2020-fgvc7/train' # A directory where larger data sets will be placed\n",
    "test_dir = 'C:/Users/48507/Downloads/plant-pathology-2020-fgvc7/test' # A directory where smaller data sets will be placed\n",
    "os.mkdir(train_dir)\n",
    "os.mkdir(test_dir)\n",
    "\n",
    "\n",
    "fnames = ['Train_{}.jpg'.format(i) for i in range(1821)]\n",
    "for fname in fnames:\n",
    " src = os.path.join(original_dataset_dir, fname)\n",
    " dst = os.path.join(train_dir, fname)\n",
    " shutil.copyfile(src, dst)\n",
    "\n",
    "\n",
    "fnamesT = ['Test_{}.jpg'.format(i) for i in range(1821)]\n",
    "for fnameT in fnamesT:\n",
    " src = os.path.join(original_dataset_dir, fnameT)\n",
    " dst = os.path.join(test_dir, fnameT)\n",
    " shutil.copyfile(src, dst)"
   ]
  },
  {
   "cell_type": "markdown",
   "id": "61f69e19",
   "metadata": {},
   "source": [
    "### Loading train.csv and test.csv"
   ]
  },
  {
   "cell_type": "code",
   "execution_count": null,
   "id": "c8ab3346",
   "metadata": {},
   "outputs": [],
   "source": [
    "train_y = pd.read_csv(\"C:/Users/48507/Downloads/plant-pathology-2020-fgvc7/train.csv\")\n",
    "test_y = pd.read_csv(\"C:/Users/48507/Downloads/plant-pathology-2020-fgvc7/test.csv\")"
   ]
  },
  {
   "cell_type": "code",
   "execution_count": 19,
   "id": "a5f397e8",
   "metadata": {},
   "outputs": [
    {
     "name": "stdout",
     "output_type": "stream",
     "text": [
      "(1821, 5)\n",
      "(1821, 1)\n"
     ]
    }
   ],
   "source": [
    "print(train_y.shape)\n",
    "print(test_y.shape)"
   ]
  },
  {
   "cell_type": "code",
   "execution_count": 18,
   "id": "2e0c0a3f",
   "metadata": {},
   "outputs": [
    {
     "name": "stdout",
     "output_type": "stream",
     "text": [
      "       image_id\n",
      "0        Test_0\n",
      "1        Test_1\n",
      "2        Test_2\n",
      "3        Test_3\n",
      "4        Test_4\n",
      "...         ...\n",
      "1816  Test_1816\n",
      "1817  Test_1817\n",
      "1818  Test_1818\n",
      "1819  Test_1819\n",
      "1820  Test_1820\n",
      "\n",
      "[1821 rows x 1 columns]\n"
     ]
    }
   ],
   "source": [
    "print(pd.DataFrame(test_y))"
   ]
  },
  {
   "cell_type": "markdown",
   "id": "94f1657a",
   "metadata": {},
   "source": [
    "#### As we can see, images named Test.jpg do not contain any class information, so they cannot be used to test trained networks. Due to this, decided to divide the training photos (Train.jpg) into training and test photos."
   ]
  },
  {
   "cell_type": "code",
   "execution_count": null,
   "id": "ec24feb5",
   "metadata": {},
   "outputs": [],
   "source": [
    "# Creating a dataframe with 80% values of original dataframe = train images\n",
    "ds_train = train_y.sample(frac = 0.80)\n",
    "\n",
    "# Creating dataframe with rest of the 20% values = test images\n",
    "ds_test = train_y.drop(ds_train.index)"
   ]
  },
  {
   "cell_type": "markdown",
   "id": "a413f6ed",
   "metadata": {},
   "source": [
    "### Saving the split file to new csv"
   ]
  },
  {
   "cell_type": "code",
   "execution_count": null,
   "id": "6d7546f4",
   "metadata": {},
   "outputs": [],
   "source": [
    "ds_train.to_csv('C:/Users/48507/Downloads/plant-pathology-2020-fgvc7/ds_train.csv',index=False)\n",
    "ds_test.to_csv('C:/Users/48507/Downloads/plant-pathology-2020-fgvc7/ds_test.csv',index=False)"
   ]
  },
  {
   "cell_type": "code",
   "execution_count": 14,
   "id": "e86d45ef",
   "metadata": {},
   "outputs": [
    {
     "name": "stdout",
     "output_type": "stream",
     "text": [
      "      image_id  healthy  multiple_diseases  rust  scab\n",
      "0     Train_50        0                  0     1     0\n",
      "1   Train_1223        1                  0     0     0\n",
      "2   Train_1431        0                  0     0     1\n",
      "3    Train_203        0                  0     0     1\n",
      "4   Train_1510        0                  0     1     0\n",
      "5   Train_1567        0                  0     1     0\n",
      "6   Train_1194        0                  0     1     0\n",
      "7   Train_1660        0                  0     0     1\n",
      "8    Train_590        0                  0     1     0\n",
      "9   Train_1747        0                  0     0     1\n",
      "10  Train_1210        1                  0     0     0\n",
      "11   Train_441        0                  0     1     0\n",
      "12   Train_965        0                  0     1     0\n",
      "13   Train_550        1                  0     0     0\n",
      "14  Train_1137        0                  0     0     1\n",
      "15  Train_1620        0                  0     0     1\n",
      "16   Train_922        0                  0     0     1\n",
      "17  Train_1193        1                  0     0     0\n",
      "18   Train_439        1                  0     0     0\n",
      "19  Train_1624        0                  0     1     0\n"
     ]
    }
   ],
   "source": [
    "print(ds_train.head(20))"
   ]
  },
  {
   "cell_type": "code",
   "execution_count": 15,
   "id": "5ffc1c16",
   "metadata": {},
   "outputs": [
    {
     "name": "stdout",
     "output_type": "stream",
     "text": [
      "    image_id  healthy  multiple_diseases  rust  scab\n",
      "0    Train_2        1                  0     0     0\n",
      "1    Train_3        0                  0     1     0\n",
      "2    Train_7        0                  0     0     1\n",
      "3   Train_22        0                  0     0     1\n",
      "4   Train_27        0                  0     0     1\n",
      "5   Train_36        0                  1     0     0\n",
      "6   Train_38        0                  0     1     0\n",
      "7   Train_45        0                  0     1     0\n",
      "8   Train_49        0                  0     0     1\n",
      "9   Train_53        1                  0     0     0\n",
      "10  Train_54        1                  0     0     0\n",
      "11  Train_58        0                  0     1     0\n",
      "12  Train_69        0                  0     1     0\n",
      "13  Train_71        0                  0     1     0\n",
      "14  Train_76        0                  0     0     1\n",
      "15  Train_85        0                  0     0     1\n",
      "16  Train_93        0                  0     1     0\n",
      "17  Train_94        1                  0     0     0\n",
      "18  Train_96        0                  0     1     0\n",
      "19  Train_99        1                  0     0     0\n"
     ]
    }
   ],
   "source": [
    "print(ds_test.head(20))"
   ]
  },
  {
   "cell_type": "code",
   "execution_count": 9,
   "id": "683b870f",
   "metadata": {},
   "outputs": [
    {
     "name": "stdout",
     "output_type": "stream",
     "text": [
      "Train set:\n",
      "Class image_id occurs in 1 images\n",
      "Class healthy occurs in 402 images\n",
      "Class multiple_diseases occurs in 76 images\n",
      "Class rust occurs in 497 images\n",
      "Class scab occurs in 482 images\n"
     ]
    }
   ],
   "source": [
    "print('Train set:')\n",
    "for img_class in ds_train:\n",
    "    print(f'Class {img_class} occurs in {ds_train[img_class].value_counts()[1]} images')"
   ]
  },
  {
   "cell_type": "code",
   "execution_count": 10,
   "id": "439a28ee",
   "metadata": {},
   "outputs": [
    {
     "name": "stdout",
     "output_type": "stream",
     "text": [
      "Test set:\n",
      "Class image_id occurs in 1 images\n",
      "Class healthy occurs in 114 images\n",
      "Class multiple_diseases occurs in 15 images\n",
      "Class rust occurs in 125 images\n",
      "Class scab occurs in 110 images\n"
     ]
    }
   ],
   "source": [
    "print('Test set:')\n",
    "for img_class in ds_test:\n",
    "    print(f'Class {img_class} occurs in {ds_test[img_class].value_counts()[1]} images')"
   ]
  },
  {
   "cell_type": "markdown",
   "id": "5f21eb30",
   "metadata": {},
   "source": [
    "Based on the above information, it can be said that the collection is divided into 4 classes:\n",
    "- healthy\n",
    "- rust\n",
    "- scab\n",
    "- multiple diseases\n",
    "\n",
    "Each photo contains an individual number and is assigned to only one class. In total, we have **1457** images in the training set and **364** images in the test set."
   ]
  },
  {
   "cell_type": "code",
   "execution_count": 11,
   "id": "5ffac71d",
   "metadata": {},
   "outputs": [],
   "source": [
    "df_train= ds_train.copy()\n",
    "df_train['classes']= df_train.apply(lambda row: list(row[row == 1].index), axis=1)\n",
    "df_train= df_train[['image_id', 'classes']]\n",
    "\n",
    "df_test= ds_test.copy()\n",
    "df_test['classes']= df_test.apply(lambda row: list(row[row == 1].index), axis=1)\n",
    "df_test= df_test[['image_id', 'classes']]"
   ]
  },
  {
   "cell_type": "markdown",
   "id": "7a6799ac",
   "metadata": {},
   "source": [
    "### Histogram for train set"
   ]
  },
  {
   "cell_type": "code",
   "execution_count": 12,
   "id": "e7f3df9b",
   "metadata": {},
   "outputs": [
    {
     "data": {
      "image/png": "[encoded data removed]",
      "text/plain": [
       "<Figure size 648x504 with 1 Axes>"
      ]
     },
     "metadata": {
      "needs_background": "light"
     },
     "output_type": "display_data"
    }
   ],
   "source": [
    "clas=df_train[\"classes\"]\n",
    "fl=[]\n",
    "for item in clas:\n",
    "    fl += item\n",
    "\n",
    "plt.figure(figsize=(9,7));\n",
    "hist = sns.histplot(fl).set(title=\"Train set\")\n",
    "\n",
    "plt.show()"
   ]
  },
  {
   "cell_type": "markdown",
   "id": "177c1dcd",
   "metadata": {},
   "source": [
    "### Histogram for test set"
   ]
  },
  {
   "cell_type": "code",
   "execution_count": 13,
   "id": "085ac305",
   "metadata": {},
   "outputs": [
    {
     "data": {
      "image/png": "[encoded data removed]",
      "text/plain": [
       "<Figure size 648x504 with 1 Axes>"
      ]
     },
     "metadata": {
      "needs_background": "light"
     },
     "output_type": "display_data"
    }
   ],
   "source": [
    "clas_t=df_test[\"classes\"]\n",
    "fl_t=[]\n",
    "for item in clas_t:\n",
    "    fl_t += item\n",
    "\n",
    "plt.figure(figsize=(9,7));\n",
    "hist = sns.histplot(fl_t).set(title=\"Test set\")\n",
    "\n",
    "plt.show()"
   ]
  },
  {
   "cell_type": "markdown",
   "id": "f70a2d0d",
   "metadata": {},
   "source": [
    "#### Based on the obtained graphs, it can be observed that the dataset is strongly unbalanced in terms of the \"multiple diseases\" class. The number of photos of plants belonging to the other classes is more or less very similar\n",
    "\n",
    "### Assigning training and test photos to folders according to their classes:\n",
    "\n",
    "##### Decided to use imageDataGenerator for augmentation and preparation of sets for training. For this purpose, it was necessary to assign photos to folders with given class names"
   ]
  },
  {
   "cell_type": "code",
   "execution_count": null,
   "id": "a9466999",
   "metadata": {},
   "outputs": [],
   "source": [
    "import os\n",
    "import pandas as pd\n",
    "import matplotlib.pyplot as plt\n",
    "\n",
    "train_dataset_dir = r'C:/Users/48507/Downloads/plant-pathology-2020-fgvc7/train'\n",
    "train_path= r'C:/Users/48507/Downloads/plant-pathology-2020-fgvc7/train_classes'\n",
    "test_path= r'C:/Users/48507/Downloads/plant-pathology-2020-fgvc7/test_classes'\n",
    "\n",
    "def move_images(csv, image_path, final_path):\n",
    "    errors= []\n",
    "    for img in csv['image_id']:\n",
    "        image= Image.open(os.path.join(image_path, f'{img}.jpg'))\n",
    "        img_class= csv[csv['image_id']== img]['classes'].values[0][0]\n",
    "\n",
    "        if os.path.isdir(os.path.join(final_path, img_class)):\n",
    "            image.save(os.path.join(final_path, img_class, f'{img}.jpg'))\n",
    "        else:\n",
    "            os.mkdir(os.path.join(final_path, img_class))\n",
    "            image.save(os.path.join(final_path, img_class, f'{img}.jpg'))"
   ]
  },
  {
   "cell_type": "code",
   "execution_count": null,
   "id": "f28a4d93",
   "metadata": {},
   "outputs": [],
   "source": [
    "move_images(df_test, train_dataset_dir, test_path)\n",
    "move_images(df_train, train_dataset_dir, train_path)"
   ]
  }
 ],
 "metadata": {
  "kernelspec": {
   "display_name": "Python 3 (ipykernel)",
   "language": "python",
   "name": "python3"
  },
  "language_info": {
   "codemirror_mode": {
    "name": "ipython",
    "version": 3
   },
   "file_extension": ".py",
   "mimetype": "text/x-python",
   "name": "python",
   "nbconvert_exporter": "python",
   "pygments_lexer": "ipython3",
   "version": "3.9.7"
  }
 },
 "nbformat": 4,
 "nbformat_minor": 5
}
